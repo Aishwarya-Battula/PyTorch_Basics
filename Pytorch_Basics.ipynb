{
  "nbformat": 4,
  "nbformat_minor": 0,
  "metadata": {
    "colab": {
      "name": "Pytorch_Basics.ipynb",
      "provenance": [],
      "collapsed_sections": []
    },
    "kernelspec": {
      "name": "python3",
      "display_name": "Python 3"
    },
    "language_info": {
      "name": "python"
    }
  },
  "cells": [
    {
      "cell_type": "markdown",
      "metadata": {
        "id": "Kk6XtZBESGDc"
      },
      "source": [
        "## **Pytorch** - *an open-source python-based machine and deep learning framework*"
      ]
    },
    {
      "cell_type": "markdown",
      "metadata": {
        "id": "mAJi9VeOSPXA"
      },
      "source": [
        "![Screen Shot 2021-05-19 at 1.06.43 AM.png](data:image/png;base64,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)\n",
        "\n"
      ]
    },
    {
      "cell_type": "markdown",
      "metadata": {
        "id": "4aebJAY_TMwg"
      },
      "source": [
        "\n",
        "\n",
        "\n",
        "> **Features of Pytorch**\n",
        "*   *Versatile Collection of Modules:* PyTorch comes with several specially developed modules like torchtext, torchvision, and torchaudio to work with different areas of deep learning like NLP, computer vision and speech processing.\n",
        "*   *Numpy friendly:* PyTorch works with NumPy like tensor structures for its computations which are all GPU compatible.\n",
        "\n",
        "\n",
        "\n",
        "\n"
      ]
    },
    {
      "cell_type": "markdown",
      "metadata": {
        "id": "d2U_s2zQVTLT"
      },
      "source": [
        "### **Tensors**\n"
      ]
    },
    {
      "cell_type": "markdown",
      "metadata": {
        "id": "IgP9E062VWg7"
      },
      "source": [
        "> *  Tensors are a specialized data structure that are very similar to arrays and matrices. \n",
        "*   In PyTorch, we use tensors to encode the inputs and outputs of a model, as well as the model’s parameters.\n",
        "*   Tensors are similar to NumPy’s ndarrays.\n",
        "*   Tensors can run on GPUs or other hardware accelerators.\n"
      ]
    },
    {
      "cell_type": "markdown",
      "metadata": {
        "id": "8Z3V7y2gqnjA"
      },
      "source": [
        "Given below are some code blocks from the Pytorch documentation, we will be using them to illustrate some of the basics of pytorch."
      ]
    },
    {
      "cell_type": "markdown",
      "metadata": {
        "id": "ANreq-IcUGQm"
      },
      "source": [
        "**Imports**"
      ]
    },
    {
      "cell_type": "code",
      "metadata": {
        "id": "rsOy-03lWYCS"
      },
      "source": [
        "import torch\n",
        "import numpy as np"
      ],
      "execution_count": 1,
      "outputs": []
    },
    {
      "cell_type": "markdown",
      "metadata": {
        "id": "D6eAw4O7Wftn"
      },
      "source": [
        "**Initializing a Tensor**"
      ]
    },
    {
      "cell_type": "code",
      "metadata": {
        "id": "x7fF26I2WbXD",
        "colab": {
          "base_uri": "https://localhost:8080/"
        },
        "outputId": "95f24d78-9f1a-45f3-b693-e282e05c338f"
      },
      "source": [
        "#Directly from Data\n",
        "data = [[1, 2],[3, 4]]\n",
        "x_data = torch.tensor(data)\n",
        "x_data"
      ],
      "execution_count": null,
      "outputs": [
        {
          "output_type": "execute_result",
          "data": {
            "text/plain": [
              "tensor([[1, 2],\n",
              "        [3, 4]])"
            ]
          },
          "metadata": {
            "tags": []
          },
          "execution_count": 4
        }
      ]
    },
    {
      "cell_type": "code",
      "metadata": {
        "id": "qQ0JDw97Wp9s",
        "colab": {
          "base_uri": "https://localhost:8080/"
        },
        "outputId": "4684d577-6261-4af4-f83b-7b86c9ce303b"
      },
      "source": [
        "#Directly from numpy array\n",
        "data = [[1, 2],[3, 4]]\n",
        "np_array = np.array(data)\n",
        "x_np = torch.from_numpy(np_array)\n",
        "x_np"
      ],
      "execution_count": null,
      "outputs": [
        {
          "output_type": "execute_result",
          "data": {
            "text/plain": [
              "tensor([[1, 2],\n",
              "        [3, 4]])"
            ]
          },
          "metadata": {
            "tags": []
          },
          "execution_count": 5
        }
      ]
    },
    {
      "cell_type": "code",
      "metadata": {
        "id": "SA6XTz6nWvjq",
        "colab": {
          "base_uri": "https://localhost:8080/"
        },
        "outputId": "8d1fe1e3-7ca4-47b4-de66-ad7e15507da8"
      },
      "source": [
        "#from another tensor\n",
        "x_ones = torch.ones_like(x_data) # retains the properties of x_data\n",
        "print(f\"Ones Tensor: \\n {x_ones} \\n\")\n",
        "\n",
        "x_rand = torch.rand_like(x_data, dtype=torch.float) # overrides the datatype of x_data\n",
        "print(f\"Random Tensor: \\n {x_rand} \\n\")"
      ],
      "execution_count": null,
      "outputs": [
        {
          "output_type": "stream",
          "text": [
            "Ones Tensor: \n",
            " tensor([[1, 1],\n",
            "        [1, 1]]) \n",
            "\n",
            "Random Tensor: \n",
            " tensor([[0.6497, 0.1447],\n",
            "        [0.9441, 0.8307]]) \n",
            "\n"
          ],
          "name": "stdout"
        }
      ]
    },
    {
      "cell_type": "code",
      "metadata": {
        "id": "UE_pJDqyW1nG",
        "colab": {
          "base_uri": "https://localhost:8080/"
        },
        "outputId": "0c5e1927-9bed-4d3e-9361-3486759e85e6"
      },
      "source": [
        "#with random or consistent values\n",
        "shape = (2,3,)\n",
        "rand_tensor = torch.rand(shape)\n",
        "ones_tensor = torch.ones(shape)\n",
        "zeros_tensor = torch.zeros(shape)\n",
        "\n",
        "print(f\"Random Tensor: \\n {rand_tensor} \\n\")\n",
        "print(f\"Ones Tensor: \\n {ones_tensor} \\n\")\n",
        "print(f\"Zeros Tensor: \\n {zeros_tensor}\")"
      ],
      "execution_count": null,
      "outputs": [
        {
          "output_type": "stream",
          "text": [
            "Random Tensor: \n",
            " tensor([[0.8622, 0.8255, 0.7509],\n",
            "        [0.0895, 0.9290, 0.2056]]) \n",
            "\n",
            "Ones Tensor: \n",
            " tensor([[1., 1., 1.],\n",
            "        [1., 1., 1.]]) \n",
            "\n",
            "Zeros Tensor: \n",
            " tensor([[0., 0., 0.],\n",
            "        [0., 0., 0.]])\n"
          ],
          "name": "stdout"
        }
      ]
    },
    {
      "cell_type": "markdown",
      "metadata": {
        "id": "kXdQW5zUXDcg"
      },
      "source": [
        "**Attributes of a Tensor**"
      ]
    },
    {
      "cell_type": "code",
      "metadata": {
        "id": "Y9LC1QWGW7-K",
        "colab": {
          "base_uri": "https://localhost:8080/"
        },
        "outputId": "79862c00-41ae-413b-d772-d3498ace22ae"
      },
      "source": [
        "tensor = torch.rand(3,4)\n",
        "\n",
        "print(f\"Shape of tensor: {tensor.shape}\")\n",
        "print(f\"Datatype of tensor: {tensor.dtype}\")\n",
        "print(f\"Device tensor is stored on: {tensor.device}\")"
      ],
      "execution_count": null,
      "outputs": [
        {
          "output_type": "stream",
          "text": [
            "Shape of tensor: torch.Size([3, 4])\n",
            "Datatype of tensor: torch.float32\n",
            "Device tensor is stored on: cpu\n"
          ],
          "name": "stdout"
        }
      ]
    },
    {
      "cell_type": "code",
      "metadata": {
        "id": "ez_00MIi5gbS",
        "colab": {
          "base_uri": "https://localhost:8080/"
        },
        "outputId": "09aea08e-493a-401f-f7c6-27cd3fbb7c6d"
      },
      "source": [
        "a = torch.randn((2,3,4))\n",
        "print(a.size(0))\n",
        "print(a.size(-1))\n"
      ],
      "execution_count": null,
      "outputs": [
        {
          "output_type": "execute_result",
          "data": {
            "text/plain": [
              "tensor([[[-0.6400, -0.6148, -0.5022,  0.3841],\n",
              "         [-1.9566,  2.0675,  1.0225, -1.5795],\n",
              "         [ 0.2921, -1.9360, -0.4533,  0.8601]],\n",
              "\n",
              "        [[-0.7256,  0.4435, -1.0161,  0.9379],\n",
              "         [-2.3315,  0.3454, -0.0912,  1.2097],\n",
              "         [-0.7070, -0.8314,  1.1929,  1.8518]]])"
            ]
          },
          "metadata": {
            "tags": []
          },
          "execution_count": 13
        }
      ]
    },
    {
      "cell_type": "markdown",
      "metadata": {
        "id": "1bDUDld5X1Xa"
      },
      "source": [
        "**Moving a Tensor to the GPU**"
      ]
    },
    {
      "cell_type": "code",
      "metadata": {
        "id": "LGdsDSbkXJY4",
        "colab": {
          "base_uri": "https://localhost:8080/"
        },
        "outputId": "52321623-ebc5-4dc4-93a8-6d363ea20d0a"
      },
      "source": [
        "# We move our tensor to the GPU if available\n",
        "if torch.cuda.is_available():\n",
        "  print('cuda')\n",
        "  tensor = tensor.to('cuda')\n",
        "else:\n",
        "  print('cpu')"
      ],
      "execution_count": null,
      "outputs": [
        {
          "output_type": "stream",
          "text": [
            "cpu\n"
          ],
          "name": "stdout"
        }
      ]
    },
    {
      "cell_type": "markdown",
      "metadata": {
        "id": "O15rm9k0X6v2"
      },
      "source": [
        "## **Arithemetic Operations**"
      ]
    },
    {
      "cell_type": "code",
      "metadata": {
        "id": "iHfN-ETmwIQn",
        "colab": {
          "base_uri": "https://localhost:8080/"
        },
        "outputId": "7432b778-23f2-41de-f545-eef7e8a61d5b"
      },
      "source": [
        "#Joining tensors\n",
        "tensor = torch.rand(3,4)\n",
        "print('Tensor')\n",
        "print(tensor)\n",
        "print('\\n\\n')\n",
        "\n",
        "t1 = torch.cat([tensor, tensor, tensor], dim=0)\n",
        "print('Concatenated Tensor')\n",
        "print(t1)"
      ],
      "execution_count": null,
      "outputs": [
        {
          "output_type": "stream",
          "text": [
            "Tensor\n",
            "tensor([[0.5818, 0.2166, 0.4944, 0.1666],\n",
            "        [0.7329, 0.9525, 0.1166, 0.3555],\n",
            "        [0.9131, 0.4780, 0.1673, 0.8268]])\n",
            "\n",
            "\n",
            "\n",
            "Concatenated Tensor\n",
            "tensor([[0.5818, 0.2166, 0.4944, 0.1666],\n",
            "        [0.7329, 0.9525, 0.1166, 0.3555],\n",
            "        [0.9131, 0.4780, 0.1673, 0.8268],\n",
            "        [0.5818, 0.2166, 0.4944, 0.1666],\n",
            "        [0.7329, 0.9525, 0.1166, 0.3555],\n",
            "        [0.9131, 0.4780, 0.1673, 0.8268],\n",
            "        [0.5818, 0.2166, 0.4944, 0.1666],\n",
            "        [0.7329, 0.9525, 0.1166, 0.3555],\n",
            "        [0.9131, 0.4780, 0.1673, 0.8268]])\n"
          ],
          "name": "stdout"
        }
      ]
    },
    {
      "cell_type": "code",
      "metadata": {
        "id": "XpFyuS8BaXNA",
        "colab": {
          "base_uri": "https://localhost:8080/"
        },
        "outputId": "c6697a8b-bc4d-41b5-9863-b77e0d631a09"
      },
      "source": [
        "# This computes the matrix multiplication between two tensors. y1, y2, y3 will have the same value\n",
        "y1 = tensor @ tensor.T\n",
        "y2 = tensor.matmul(tensor.T)\n",
        "\n",
        "y3 = torch.rand_like(tensor)\n",
        "torch.matmul(tensor, tensor.T, out=y3)"
      ],
      "execution_count": null,
      "outputs": [
        {
          "output_type": "execute_result",
          "data": {
            "text/plain": [
              "tensor([[0.6576, 0.7496, 0.8552],\n",
              "        [0.7496, 1.5844, 1.4379],\n",
              "        [0.8552, 1.4379, 1.7739]])"
            ]
          },
          "metadata": {
            "tags": []
          },
          "execution_count": 10
        }
      ]
    },
    {
      "cell_type": "code",
      "metadata": {
        "colab": {
          "base_uri": "https://localhost:8080/"
        },
        "id": "52wLbNehzHQM",
        "outputId": "08aba3e7-b26c-4e90-eb54-4456a3f62a4b"
      },
      "source": [
        "# This computes the element-wise product. z1, z2, z3 will have the same value\n",
        "z1 = tensor * tensor\n",
        "z2 = tensor.mul(tensor)\n",
        "\n",
        "z3 = torch.rand_like(tensor)\n",
        "torch.mul(tensor, tensor, out=z3)"
      ],
      "execution_count": null,
      "outputs": [
        {
          "output_type": "execute_result",
          "data": {
            "text/plain": [
              "tensor([[0.3385, 0.0469, 0.2444, 0.0277],\n",
              "        [0.5371, 0.9073, 0.0136, 0.1263],\n",
              "        [0.8338, 0.2285, 0.0280, 0.6836]])"
            ]
          },
          "metadata": {
            "tags": []
          },
          "execution_count": 11
        }
      ]
    },
    {
      "cell_type": "markdown",
      "metadata": {
        "id": "6_KHnUOEa5yw"
      },
      "source": [
        "## **Neural Network**"
      ]
    },
    {
      "cell_type": "markdown",
      "metadata": {
        "id": "9OKQxRRgbAMA"
      },
      "source": [
        "**Imports**"
      ]
    },
    {
      "cell_type": "code",
      "metadata": {
        "id": "RebXsuakbXgW"
      },
      "source": [
        "from torch import nn\n",
        "import torch.nn.functional as F"
      ],
      "execution_count": null,
      "outputs": []
    },
    {
      "cell_type": "code",
      "metadata": {
        "id": "41v8yxAYbYes",
        "colab": {
          "base_uri": "https://localhost:8080/"
        },
        "outputId": "e83dc212-d187-4da9-dfa0-4e7863170971"
      },
      "source": [
        "#checks if GPU is available\n",
        "device = 'cuda' if torch.cuda.is_available() else 'cpu'\n",
        "print('Using {} device'.format(device))"
      ],
      "execution_count": null,
      "outputs": [
        {
          "output_type": "stream",
          "text": [
            "Using cuda device\n"
          ],
          "name": "stdout"
        }
      ]
    },
    {
      "cell_type": "markdown",
      "metadata": {
        "id": "UbAP8GvpbjE0"
      },
      "source": [
        "**Defining the Model**"
      ]
    },
    {
      "cell_type": "code",
      "metadata": {
        "id": "mMIoJWI-biOL"
      },
      "source": [
        "class NeuralNetwork(nn.Module):\n",
        "    def __init__(self):\n",
        "        super(NeuralNetwork, self).__init__()\n",
        "        self.flatten = nn.Flatten()\n",
        "        self.linear1 = nn.Linear(28*28, 512)\n",
        "        self.linear2 = nn.Linear(512, 512)\n",
        "        self.linear3 = nn.Linear(512, 10)\n",
        "\n",
        "    def forward(self, x):\n",
        "        x = self.flatten(x)\n",
        "\n",
        "        x = self.linear1(x)\n",
        "        x = F.relu(x)\n",
        "\n",
        "        x = self.linear2(x)\n",
        "        x = F.relu(x)\n",
        "\n",
        "        x = self.linear3(x)\n",
        "        x = F.relu(x)\n",
        "\n",
        "        return x"
      ],
      "execution_count": null,
      "outputs": []
    },
    {
      "cell_type": "code",
      "metadata": {
        "id": "TOQMcbnlbqHx",
        "colab": {
          "base_uri": "https://localhost:8080/"
        },
        "outputId": "40fbfa9d-cb98-486a-f05c-d3a25249017d"
      },
      "source": [
        "model = NeuralNetwork().to(device)\n",
        "print(model)"
      ],
      "execution_count": null,
      "outputs": [
        {
          "output_type": "stream",
          "text": [
            "NeuralNetwork(\n",
            "  (flatten): Flatten(start_dim=1, end_dim=-1)\n",
            "  (linear1): Linear(in_features=784, out_features=512, bias=True)\n",
            "  (linear2): Linear(in_features=512, out_features=512, bias=True)\n",
            "  (linear3): Linear(in_features=512, out_features=10, bias=True)\n",
            ")\n"
          ],
          "name": "stdout"
        }
      ]
    },
    {
      "cell_type": "code",
      "metadata": {
        "id": "xmEadVRsbv3J",
        "colab": {
          "base_uri": "https://localhost:8080/"
        },
        "outputId": "eca12927-c895-4b00-fbc6-bbc50ced34b5"
      },
      "source": [
        "#Passing input to a model\n",
        "X = torch.rand(1, 28, 28, device=device)\n",
        "logits = model(X)\n",
        "pred_probab = nn.Softmax(dim=1)(logits)\n",
        "y_pred = pred_probab.argmax(1)\n",
        "print(f\"Predicted class: {y_pred}\")"
      ],
      "execution_count": null,
      "outputs": [
        {
          "output_type": "stream",
          "text": [
            "Predicted class: tensor([4], device='cuda:0')\n"
          ],
          "name": "stdout"
        }
      ]
    },
    {
      "cell_type": "markdown",
      "metadata": {
        "id": "F3HcEAl50d_C"
      },
      "source": [
        "## **Automatic Diffrentiation**"
      ]
    },
    {
      "cell_type": "code",
      "metadata": {
        "id": "vtpA5zY90iBZ"
      },
      "source": [
        "import torch"
      ],
      "execution_count": null,
      "outputs": []
    },
    {
      "cell_type": "code",
      "metadata": {
        "id": "nIgRNXZo1wZM"
      },
      "source": [
        "a = torch.tensor(2.0,requires_grad=True)\n",
        "b = torch.tensor(3.0)\n",
        "c = a*b\n",
        "\n",
        "c.backward()"
      ],
      "execution_count": null,
      "outputs": []
    },
    {
      "cell_type": "code",
      "metadata": {
        "colab": {
          "base_uri": "https://localhost:8080/"
        },
        "id": "l0pcl7Vl3lcn",
        "outputId": "3a6ea5b3-4a28-4d08-ede7-2ce8362f30d0"
      },
      "source": [
        "c.is_leaf"
      ],
      "execution_count": null,
      "outputs": [
        {
          "output_type": "execute_result",
          "data": {
            "text/plain": [
              "False"
            ]
          },
          "metadata": {
            "tags": []
          },
          "execution_count": 14
        }
      ]
    },
    {
      "cell_type": "code",
      "metadata": {
        "colab": {
          "base_uri": "https://localhost:8080/"
        },
        "id": "xrvIlpsW5OAY",
        "outputId": "9e5524cc-2c1c-430a-b9cd-ba5df8ac5251"
      },
      "source": [
        "a.grad"
      ],
      "execution_count": null,
      "outputs": [
        {
          "output_type": "execute_result",
          "data": {
            "text/plain": [
              "tensor(3.)"
            ]
          },
          "metadata": {
            "tags": []
          },
          "execution_count": 15
        }
      ]
    },
    {
      "cell_type": "markdown",
      "metadata": {
        "id": "I0d_MaEiW69r"
      },
      "source": [
        "Multiplication"
      ]
    },
    {
      "cell_type": "code",
      "metadata": {
        "id": "nZ6WlMqiHE0u",
        "colab": {
          "base_uri": "https://localhost:8080/"
        },
        "outputId": "3e59df6a-03af-4905-de81-eeb6d9ce96bc"
      },
      "source": [
        "import torch\n",
        "import numpy as np\n",
        "import torch.nn.functional as F\n",
        "a = torch.from_numpy(np.array([[[1,2,3],[4,5,6]],[[7,8,9],[10,11,12]]]))\n",
        "b = torch.from_numpy(np.array([[[1,2,3],[4,5,6]],[[7,8,9],[10,11,12]]]))\n",
        "print(a.shape)\n",
        "print(b.shape)"
      ],
      "execution_count": null,
      "outputs": [
        {
          "output_type": "stream",
          "text": [
            "torch.Size([2, 2, 3])\n",
            "torch.Size([2, 2, 3])\n"
          ],
          "name": "stdout"
        }
      ]
    },
    {
      "cell_type": "code",
      "metadata": {
        "colab": {
          "base_uri": "https://localhost:8080/"
        },
        "id": "CdDh0XZWXMqR",
        "outputId": "30da7d40-409d-49e6-c416-e3aa2595e76d"
      },
      "source": [
        "c = a*b\n",
        "print(c)"
      ],
      "execution_count": null,
      "outputs": [
        {
          "output_type": "stream",
          "text": [
            "tensor([[[  1,   4,   9],\n",
            "         [ 16,  25,  36]],\n",
            "\n",
            "        [[ 49,  64,  81],\n",
            "         [100, 121, 144]]])\n"
          ],
          "name": "stdout"
        }
      ]
    },
    {
      "cell_type": "code",
      "metadata": {
        "colab": {
          "base_uri": "https://localhost:8080/"
        },
        "id": "q3PHtF_WYWgI",
        "outputId": "57b32b6f-4d9e-4ce2-f883-1ffc98657779"
      },
      "source": [
        "d = F.softmax(c.to(torch.float64),dim=2)\n",
        "d"
      ],
      "execution_count": null,
      "outputs": [
        {
          "output_type": "execute_result",
          "data": {
            "text/plain": [
              "tensor([[[3.3311e-04, 6.6906e-03, 9.9298e-01],\n",
              "         [2.0611e-09, 1.6701e-05, 9.9998e-01]],\n",
              "\n",
              "        [[1.2664e-14, 4.1399e-08, 1.0000e+00],\n",
              "         [7.7811e-20, 1.0262e-10, 1.0000e+00]]], dtype=torch.float64)"
            ]
          },
          "metadata": {
            "tags": []
          },
          "execution_count": 23
        }
      ]
    },
    {
      "cell_type": "code",
      "metadata": {
        "colab": {
          "base_uri": "https://localhost:8080/"
        },
        "id": "ZuwqjuHCgGDr",
        "outputId": "8c37292f-4449-47d1-9073-c3d5bc8b8b91"
      },
      "source": [
        "b = np.ones((2,2,2))\n",
        "b[0,:,:] = 2\n",
        "b"
      ],
      "execution_count": null,
      "outputs": [
        {
          "output_type": "execute_result",
          "data": {
            "text/plain": [
              "array([[[2., 2.],\n",
              "        [2., 2.]],\n",
              "\n",
              "       [[1., 1.],\n",
              "        [1., 1.]]])"
            ]
          },
          "metadata": {
            "tags": []
          },
          "execution_count": 34
        }
      ]
    },
    {
      "cell_type": "code",
      "metadata": {
        "colab": {
          "base_uri": "https://localhost:8080/"
        },
        "id": "8RXlG5Clp5T9",
        "outputId": "066abc6f-8378-4bf3-cb13-f76e3799bd18"
      },
      "source": [
        "b.shape"
      ],
      "execution_count": null,
      "outputs": [
        {
          "output_type": "execute_result",
          "data": {
            "text/plain": [
              "(1, 1, 1000)"
            ]
          },
          "metadata": {
            "tags": []
          },
          "execution_count": 32
        }
      ]
    },
    {
      "cell_type": "code",
      "metadata": {
        "id": "12K5f8i9p9l8"
      },
      "source": [
        ""
      ],
      "execution_count": null,
      "outputs": []
    }
  ]
}